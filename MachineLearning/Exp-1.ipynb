{
 "cells": [
  {
   "cell_type": "code",
   "execution_count": 32,
   "metadata": {},
   "outputs": [
    {
     "name": "stdout",
     "output_type": "stream",
     "text": [
      "Attributes = ['Sky', 'Temp', 'Humidity', 'Wind', 'Water', 'Forecast']\n",
      "[['Sunny', 'Warm', 'Normal', 'Strong', 'Warm', 'Same', 'Yes'], ['Sunny', 'Warm', 'High', 'Strong', 'Warm', 'Same', 'Yes'], ['Rainy', 'Cold', 'High', 'Strong', 'Warm', 'Change', 'No'], ['Sunny', 'Warm', 'High', 'Strong', 'Cool', 'Change', 'Yes']]\n",
      "Intial Hypothesis\n",
      "['0', '0', '0', '0', '0', '0']\n",
      "The Hypothesis are\n",
      "4 = ['Sunny', 'Warm', 'Normal', 'Strong', 'Warm', 'Same']\n",
      "Final Hypothesis\n",
      "['Sunny', 'Warm', 'Normal', 'Strong', 'Warm', 'Same']\n"
     ]
    }
   ],
   "source": [
    "import csv\n",
    "def loadCsv(filename):\n",
    "    lines = csv.reader(open(filename, \"r\"))\n",
    "    dataset = list(lines)\n",
    "    for i in range(len(dataset)):\n",
    "        dataset[i] = dataset[i]\n",
    "    return dataset\n",
    "attributes = ['Sky','Temp','Humidity','Wind','Water','Forecast']\n",
    "print('Attributes =',attributes)\n",
    "num_attributes = len(attributes)\n",
    "filename = \"finds.csv\"\n",
    "dataset = loadCsv(filename)\n",
    "print(dataset)\n",
    "hypothesis=['0'] * num_attributes\n",
    "print(\"Intial Hypothesis\")\n",
    "print(hypothesis)\n",
    "print(\"The Hypothesis are\")\n",
    "for i in range(len(dataset)):\n",
    "    target = dataset[i][-1]\n",
    "    if(target == 'Yes'):\n",
    "        for j in range(num_attributes):\n",
    "            if(hypothesis[j]=='0'):\n",
    "                hypothesis[j] = dataset[i][j]\n",
    "                if(hypothesis[j]!= dataset[i][j]):\n",
    "                        hypothesis[j]='?'\n",
    "print(i+1,'=',hypothesis)\n",
    "print(\"Final Hypothesis\")\n",
    "print(hypothesis)"
   ]
  },
  {
   "cell_type": "code",
   "execution_count": null,
   "metadata": {},
   "outputs": [],
   "source": []
  },
  {
   "cell_type": "code",
   "execution_count": null,
   "metadata": {},
   "outputs": [],
   "source": []
  }
 ],
 "metadata": {
  "kernelspec": {
   "display_name": "Python 3",
   "language": "python",
   "name": "python3"
  },
  "language_info": {
   "codemirror_mode": {
    "name": "ipython",
    "version": 3
   },
   "file_extension": ".py",
   "mimetype": "text/x-python",
   "name": "python",
   "nbconvert_exporter": "python",
   "pygments_lexer": "ipython3",
   "version": "3.8.5"
  }
 },
 "nbformat": 4,
 "nbformat_minor": 4
}
